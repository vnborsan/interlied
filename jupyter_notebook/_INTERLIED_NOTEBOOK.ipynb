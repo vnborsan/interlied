{
 "cells": [
  {
   "cell_type": "markdown",
   "id": "collect-builder",
   "metadata": {},
   "source": [
    "# <div class=\"alert-success\"> Welcome to InterLied!</div>\n",
    "#### [❓What is InterLied❓](#interlied)"
   ]
  },
  {
   "cell_type": "markdown",
   "id": "atmospheric-identifier",
   "metadata": {},
   "source": [
    "-------"
   ]
  },
  {
   "cell_type": "markdown",
   "id": "fourth-quality",
   "metadata": {},
   "source": [
    "### BEFORE YOU BEGIN:\n",
    "\n",
    "- Read the manual first!\n",
    "- Information about each algorithm can be found [on the bottom](#index_bottom) of this notebook. Hyperlinks to descriptions are available right down below, but also by running \"algorithm_name?\" (example: interlied_intervals?).\n",
    "- Go to menu above: Cell -> Run all.\n",
    "- Press this hyperlink to move directly to the section with commands for each code: [START HERE](#start)\n",
    "- Read the instructions and start analysing your corpus.\n",
    "- Make sure you understand how the code works.\n",
    "- Remove the hashtags of the cell below each algorithm so you can automatically run it with desired input.\n",
    "---\n",
    "* NOTE: Algorithm for topic modeling is still under construction, however, there is a separate notebook which already includes some basic NLP code suggestions."
   ]
  },
  {
   "cell_type": "markdown",
   "id": "korean-upper",
   "metadata": {},
   "source": [
    "# #"
   ]
  },
  {
   "cell_type": "markdown",
   "id": "clear-efficiency",
   "metadata": {},
   "source": [
    "## Notebook's structure:\n",
    "<a id='top'></a>\n",
    "1. [Top Index](#index_top)\n",
    "2. [Requirements downloads and imports](#dependencies)\n",
    "2. [Code commands without any commentary](#start)\n",
    "3. [Code commands with some additional commentary](#ch_1)\n",
    "4. [Bottom index](#index_bottom)\n",
    "5. [Detailed code descriptions](#code_info)\n"
   ]
  },
  {
   "cell_type": "markdown",
   "id": "judicial-force",
   "metadata": {},
   "source": [
    "# #"
   ]
  },
  {
   "cell_type": "markdown",
   "id": "executed-stack",
   "metadata": {},
   "source": [
    "## <div class=\"alert-info\">INDEX</div>\n",
    "<a id='index_top'></a>\n",
    "\n",
    "#### [CHAPTER 0](#dependencies): DEPENDENCIES IMPORTS\n",
    "\n",
    "#### COMMANDS WITHOUT COMMENTARY:\n",
    "* [PRESS HERE TO AVOID TEXT](#start)\n",
    "\n",
    "\n",
    "#### [CHAPTER 1](#ch_1): BASIC FUNCTIONS\n",
    "* interlied_intervals [INFO](#intervals_info)\n",
    "* interlied_intervals [ALGORITHM](#intervals_basic)\n",
    "* interlied_patterns [INFO](#patterns_info)\n",
    "* interlied_patterns [ALGORITHM](#patterns_basic)\n",
    "* interlied_lyric [INFO](#lyric_info)\n",
    "* interlied_lyric [ALGORITHM](#lyric_basic)\n",
    "\n",
    "#### [CHAPTER 2](#ch_2): PLOTS AND VISUALISATIONS \n",
    "* interlied_pitch_plot [INFO](#pitchplot_info) \n",
    "* interlied_pitch_plot [ALGORITHM](#plots)\n",
    "* interlied_top_10_plot [INFO](#top10_info)\n",
    "* interlied_top_10_plot [ALGORITHM](#plots) \n",
    "* interlied_word_freq_q_plot [INFO](#qplot_info) \n",
    "* interlied_word_freq_q_plot [ALGORITHM](#plots) \n",
    "* interlied_lyric_word_freq_plot [INFO](#lyricplot_info) \n",
    "* interlied_lyric_word_freq_plot [ALGORITHM](#plots) \n",
    "* interlied_view_midi_and_score & interlied_midi_save [INFO](#midiscore) \n",
    "* interlied_view_midi_and_score & interlied_midi_save[ALGORITHM](#visualisations) \n",
    "\n",
    "\n",
    "#### [CHAPTER 3](#ch_3): EXPLORE\n",
    "* interlied_int_explore_lyric [INFO](#explorelyric_info)\n",
    "* interlied_int_explore_lyric [ALGORITHM](#intervals_lyric)\n",
    "* interlied_int_explore_lyric_token [INFO](#explorelyrictoken_info)\n",
    "* interlied_int_explore_lyric_token [ALGORITHM](#intervals_search_lyric)\n",
    "* interlied_search_pattern_lyric_composer [INFO](#plc_info)\n",
    "* interlied_search_pattern_lyric_composer [ALGORITHM](#patterns_search_lyric)\n",
    "* interlied_search_melody_rhythm_composer [INFO](#searchrhythm_info)\n",
    "* interlied_search_melody_rhythm_composer[ALGORITHM](#searchrhythm)\n",
    "* interlied_words_count [INFO](#wordcount_info)\n",
    "* interlied_words_count [ALGORITHM](#lyric_word_count)\n",
    "\n",
    "#### DETAILED CODE DESCRIPTION\n",
    "* [PRESS HERE TO GO TO CODE DESCRIPTION INDEX](#index_bottom)"
   ]
  },
  {
   "cell_type": "markdown",
   "id": "several-thumbnail",
   "metadata": {},
   "source": [
    "# #"
   ]
  },
  {
   "cell_type": "markdown",
   "id": "chronic-latin",
   "metadata": {},
   "source": [
    "## <div class=\"alert-warning\">DOWNLOAD LIBRARIES</div>"
   ]
  },
  {
   "cell_type": "code",
   "execution_count": null,
   "id": "hollow-albany",
   "metadata": {},
   "outputs": [],
   "source": [
    "## REMOVE HASHTAGS TO DOWNLOAD THE LIBRARIES\n",
    "\n",
    "# !pip install music21\n",
    "# !pip install pandas\n",
    "# !pip install numpy\n",
    "# !pip install os-sys\n",
    "# !pip install itertools\n",
    "# !pip install collections\n",
    "# !pip install operator\n",
    "# !pip install nltk\n",
    "# !pip install heapq\n",
    "# !pip install re\n",
    "# !pip install python-csv\n",
    "# !pip install matplotlib\n",
    "# !pip install pycopy-copy\n",
    "# !pip install glob2\n",
    "# !pip install IPython\n",
    "# !pip install random2"
   ]
  },
  {
   "cell_type": "markdown",
   "id": "respective-fisher",
   "metadata": {},
   "source": [
    "# #"
   ]
  },
  {
   "cell_type": "markdown",
   "id": "finnish-committee",
   "metadata": {},
   "source": [
    "## <div class=\"alert-warning\">IMPORT LIBRARIES</div>\n"
   ]
  },
  {
   "cell_type": "code",
   "execution_count": null,
   "id": "horizontal-classic",
   "metadata": {},
   "outputs": [],
   "source": [
    "# from interlied_visualisations import interlied_int_explore_lyric_token - FIX THIS"
   ]
  },
  {
   "cell_type": "code",
   "execution_count": null,
   "id": "joint-committee",
   "metadata": {},
   "outputs": [],
   "source": [
    "from interlied_stopwords import interlied_sw\n",
    "from interlied_basics_1 import interlied_intervals\n",
    "from interlied_basics_2 import interlied_pattern_analysis, interlied_lyric\n",
    "from interlied_visualisations import interlied_pitch_plot, interlied_top_10_plot, interlied_word_freq_q_plot, interlied_lyric_freq_plot\n",
    "from interlied_midiscore import interlied_view_midi_and_score, interlied_save_midi\n",
    "from interlied_exploration import interlied_int_explore_lyric, interlied_int_explore_lyric_token, interlied_search_pattern_lyric_composer, interlied_search_pattern_lyric_composer, interlied_search_melody_rhythm_composer, interlied_words_count"
   ]
  },
  {
   "cell_type": "code",
   "execution_count": null,
   "id": "excess-links",
   "metadata": {},
   "outputs": [],
   "source": [
    "# import collections\n",
    "# from collections import OrderedDict\n",
    "# from collections import Counter\n",
    "# import copy\n",
    "# import csv\n",
    "# import glob\n",
    "# from heapq import nlargest\n",
    "# import itertools\n",
    "# from itertools import chain\n",
    "# from IPython.display import clear_output\n",
    "# from IPython.display import HTML\n",
    "# import matplotlib\n",
    "# import matplotlib.pyplot as plt\n",
    "# from music21 import*\n",
    "# from music21 import text, stream\n",
    "# import pandas as pd\n",
    "# import nltk as nltk\n",
    "# from nltk.tokenize import RegexpTokenizer\n",
    "# from nltk.stem import PorterStemmer\n",
    "# from nltk.stem.wordnet import WordNetLemmatizer\n",
    "# from nltk.corpus import stopwords\n",
    "# from nltk import ngrams\n",
    "# import numpy as np\n",
    "# import operator\n",
    "# from operator import itemgetter\n",
    "# import os\n",
    "# import random\n",
    "# import re \n",
    "# import string\n",
    "# import warnings\n",
    "# warnings.simplefilter('ignore')"
   ]
  },
  {
   "cell_type": "markdown",
   "id": "sapphire-produce",
   "metadata": {},
   "source": [
    "\n"
   ]
  },
  {
   "cell_type": "markdown",
   "id": "rising-blackjack",
   "metadata": {},
   "source": [
    "# #"
   ]
  },
  {
   "cell_type": "markdown",
   "id": "trying-pastor",
   "metadata": {},
   "source": [
    "# ++++++++++++++++++++++++++++"
   ]
  },
  {
   "cell_type": "markdown",
   "id": "three-learning",
   "metadata": {},
   "source": [
    "# <div class=\"alert-danger\">COMMANDS WITHOUT DESCRIPTION</div> \n",
    "<a id='start'></a>"
   ]
  },
  {
   "cell_type": "markdown",
   "id": "alleged-candy",
   "metadata": {},
   "source": [
    "# ++++++++++++++++++++++++++++"
   ]
  },
  {
   "cell_type": "markdown",
   "id": "small-antibody",
   "metadata": {},
   "source": [
    "### Uncomment (remove '#' from) the desired cell, input your data as indicated and run."
   ]
  },
  {
   "cell_type": "markdown",
   "id": "greater-kidney",
   "metadata": {},
   "source": [
    "## <div class=\"alert-warning\">1) ANALYSIS</div>"
   ]
  },
  {
   "cell_type": "markdown",
   "id": "prerequisite-lancaster",
   "metadata": {},
   "source": [
    "### <div class=\"alert-info\">Prepare your variables:</div>"
   ]
  },
  {
   "cell_type": "code",
   "execution_count": null,
   "id": "social-buffer",
   "metadata": {},
   "outputs": [],
   "source": [
    "# xml_folder=(\"INSERT_YOUR_PATH\")"
   ]
  },
  {
   "cell_type": "code",
   "execution_count": null,
   "id": "graduate-wayne",
   "metadata": {},
   "outputs": [],
   "source": [
    "# single_xml=(\"INSERT_YOUR_PATH\")"
   ]
  },
  {
   "cell_type": "code",
   "execution_count": null,
   "id": "greatest-management",
   "metadata": {},
   "outputs": [],
   "source": [
    "# intervals_csv_folder=(\"INSERT_YOUR_PATH\")"
   ]
  },
  {
   "cell_type": "code",
   "execution_count": null,
   "id": "foreign-selling",
   "metadata": {},
   "outputs": [],
   "source": [
    "# single_csv=(\"INSERT_YOUR_PATH\")"
   ]
  },
  {
   "cell_type": "code",
   "execution_count": null,
   "id": "informational-scope",
   "metadata": {},
   "outputs": [],
   "source": [
    "# corpus_lang=(\"PICK_A_LANGUAGE\")"
   ]
  },
  {
   "cell_type": "code",
   "execution_count": null,
   "id": "initial-conflict",
   "metadata": {},
   "outputs": [],
   "source": [
    "# #CHECK AVAILABLE LANGUAGES\n",
    "# from nltk.corpus import stopwords\n",
    "# print(stopwords.fileids())"
   ]
  },
  {
   "cell_type": "code",
   "execution_count": null,
   "id": "bored-feeding",
   "metadata": {},
   "outputs": [],
   "source": [
    "# single_lyric_csv=(\"INSERT_YOUR_PATH\")"
   ]
  },
  {
   "cell_type": "markdown",
   "id": "opened-company",
   "metadata": {},
   "source": [
    "### <div class=\"alert-info\">Codes:</div>"
   ]
  },
  {
   "cell_type": "code",
   "execution_count": null,
   "id": "acting-consolidation",
   "metadata": {},
   "outputs": [],
   "source": [
    "# df_intervals=interlied_intervals(xml_folder, corpus_lang) #Define xml_folder above by pasting the path to your scores, and adjust the language of choice.\n",
    "# df_intervals"
   ]
  },
  {
   "cell_type": "code",
   "execution_count": null,
   "id": "million-diary",
   "metadata": {},
   "outputs": [],
   "source": [
    "# df_ngrams=interlied_pattern_analysis(intervals_csv_folder) #Define csv_folder above by pasting the path to the intervals folder in InterLied dir.\n",
    "# df_ngrams"
   ]
  },
  {
   "cell_type": "code",
   "execution_count": null,
   "id": "removable-college",
   "metadata": {},
   "outputs": [],
   "source": [
    "# df_lyric=interlied_lyric(xml_folder, \"slovene\")\n",
    "# df_lyric"
   ]
  },
  {
   "cell_type": "markdown",
   "id": "valid-parker",
   "metadata": {},
   "source": [
    "## <div class=\"alert-warning\">2) DATA VISUALISATION </div>"
   ]
  },
  {
   "cell_type": "markdown",
   "id": "pacific-vacation",
   "metadata": {},
   "source": [
    "### <div class=\"alert-info\">Prepare your variables:</div>"
   ]
  },
  {
   "cell_type": "code",
   "execution_count": null,
   "id": "senior-ranking",
   "metadata": {},
   "outputs": [],
   "source": [
    "single_xml=(\"/Users/vanessaninaborsan/Desktop/folders/Študij/SMC/UPF_THESIS/_InterLied_first_draft/InterLied_1.0/interface/all_codes/test_scores/french_test_scores/Bizet_Georges_-_Feuilles_dalbum_No.5_-_Rose_dAmour.mxl\")"
   ]
  },
  {
   "cell_type": "code",
   "execution_count": null,
   "id": "significant-canadian",
   "metadata": {},
   "outputs": [],
   "source": [
    "single_csv=(\"/Users/vanessaninaborsan/Desktop/folders/Študij/SMC/UPF_THESIS/_InterLied_first_draft/InterLied_1.0/interface/all_codes/intervals/_intervals_Kogoj_otoznost.mxl_combined.csv\")"
   ]
  },
  {
   "cell_type": "code",
   "execution_count": null,
   "id": "fantastic-middle",
   "metadata": {},
   "outputs": [],
   "source": [
    "single_lyric_csv=(\"/Users/vanessaninaborsan/Desktop/folders/Študij/SMC/UPF_THESIS/_InterLied_first_draft/InterLied_1.0/interface/all_codes/lyric/lyric_Kogoj.csv\")"
   ]
  },
  {
   "cell_type": "markdown",
   "id": "second-bailey",
   "metadata": {},
   "source": [
    "### <div class=\"alert-info\">Codes:</div>"
   ]
  },
  {
   "cell_type": "code",
   "execution_count": null,
   "id": "limited-lover",
   "metadata": {},
   "outputs": [],
   "source": [
    "# interlied_pitch_plot(single_xml)"
   ]
  },
  {
   "cell_type": "code",
   "execution_count": null,
   "id": "incredible-questionnaire",
   "metadata": {},
   "outputs": [],
   "source": [
    "# interlied_top_10_plot(single_csv, \"csv_column_name\")"
   ]
  },
  {
   "cell_type": "code",
   "execution_count": null,
   "id": "ruled-apache",
   "metadata": {},
   "outputs": [],
   "source": [
    "# interlied_word_freq_q_plot(single_csv, \"csv_column_name\", \"csv_column_value\")"
   ]
  },
  {
   "cell_type": "code",
   "execution_count": null,
   "id": "turned-craps",
   "metadata": {},
   "outputs": [],
   "source": [
    "# interlied_lyric_freq_plot(single_lyric_csv, \"composer\", \"COMPOSER_NAME\", \"lyric_language\", \"LANGUAGE\")"
   ]
  },
  {
   "cell_type": "code",
   "execution_count": null,
   "id": "sublime-deposit",
   "metadata": {},
   "outputs": [],
   "source": [
    "# interlied_view_midi_and_score(single_xml, \"start_measure_number\", \"end_measure_number\")"
   ]
  },
  {
   "cell_type": "code",
   "execution_count": null,
   "id": "signal-mechanics",
   "metadata": {},
   "outputs": [],
   "source": [
    "# interlied_save_midi(single_xml, measure_number_1, measure_number_2)"
   ]
  },
  {
   "cell_type": "markdown",
   "id": "dramatic-console",
   "metadata": {},
   "source": [
    "## <div class=\"alert-warning\">3) CORPUS EXPLORATION</div>"
   ]
  },
  {
   "cell_type": "markdown",
   "id": "round-providence",
   "metadata": {},
   "source": [
    "### <div class=\"alert-info\">Prepare your variables:</div>"
   ]
  },
  {
   "cell_type": "code",
   "execution_count": null,
   "id": "painted-principal",
   "metadata": {},
   "outputs": [],
   "source": [
    "# single_intervals_csv=(\"INSERT_YOUR_PATH\")"
   ]
  },
  {
   "cell_type": "code",
   "execution_count": null,
   "id": "collectible-copyright",
   "metadata": {},
   "outputs": [],
   "source": [
    "# single_pattern_csv=(\"INSERT_YOUR_PATH\")"
   ]
  },
  {
   "cell_type": "code",
   "execution_count": null,
   "id": "possible-january",
   "metadata": {},
   "outputs": [],
   "source": [
    "# single_lyric_csv=(\"INSERT_YOUR_PATH\")"
   ]
  },
  {
   "cell_type": "markdown",
   "id": "harmful-antibody",
   "metadata": {},
   "source": [
    "### <div class=\"alert-info\">Codes:</div>"
   ]
  },
  {
   "cell_type": "code",
   "execution_count": null,
   "id": "yellow-cologne",
   "metadata": {},
   "outputs": [],
   "source": [
    "# interlied_int_explore_lyric(single_intervals_csv)"
   ]
  },
  {
   "cell_type": "code",
   "execution_count": null,
   "id": "extra-organizer",
   "metadata": {},
   "outputs": [],
   "source": [
    "# interlied_int_explore_lyric_token(single_intervals_csv, \"COMPOSER_NAME\", \"LYRIC_TOKEN\", \"INTERVAL_NAME\")"
   ]
  },
  {
   "cell_type": "code",
   "execution_count": null,
   "id": "atomic-brush",
   "metadata": {},
   "outputs": [],
   "source": [
    "# interlied_search_pattern_lyric_composer(single_pattern_csv, \"PATTERN_STRING\", \"COMPOSER_NAME\", \"LYRIC_TOKEN\")"
   ]
  },
  {
   "cell_type": "code",
   "execution_count": null,
   "id": "mineral-pledge",
   "metadata": {},
   "outputs": [],
   "source": [
    "# interlied_search_melody_rhythm_composer(single_pattern_csv, \"PATTERN_STRING\", \"RHYTHM_STRING\", \"COMPOSER_NAME\")"
   ]
  },
  {
   "cell_type": "code",
   "execution_count": null,
   "id": "tough-scientist",
   "metadata": {},
   "outputs": [],
   "source": [
    "# interlied_words_count(single_lyric_csv)"
   ]
  },
  {
   "cell_type": "markdown",
   "id": "quiet-gross",
   "metadata": {},
   "source": [
    "# ++++++++++++++++++++++++++++"
   ]
  },
  {
   "cell_type": "markdown",
   "id": "apart-pierre",
   "metadata": {},
   "source": [
    "# YOU HAVE REACHED THE END OF THE FIRST SECTION\n",
    "\n",
    "### *FIND DESCRIPTIONS OF CODES BELOW*"
   ]
  },
  {
   "cell_type": "markdown",
   "id": "earned-weekend",
   "metadata": {},
   "source": [
    "# ++++++++++++++++++++++++++++"
   ]
  },
  {
   "cell_type": "markdown",
   "id": "colored-signal",
   "metadata": {},
   "source": [
    "----"
   ]
  },
  {
   "cell_type": "markdown",
   "id": "monetary-twins",
   "metadata": {},
   "source": [
    "# <div class=\"alert-danger\">CHAPTER 1: Data Preparation</div>\n",
    "<a id='ch_1'></a>"
   ]
  },
  {
   "cell_type": "markdown",
   "id": "floral-nowhere",
   "metadata": {},
   "source": [
    "## <div class=\"alert-warning\">- INTERLIED_INTERVALS:</div>\n",
    "<a id='intervals_basic'></a>\n",
    "\n",
    "##### Want to know more about this algorithm? [CLICK HERE](#intervals_info) or run the cell below to get a short description of the inputs and outputs."
   ]
  },
  {
   "cell_type": "markdown",
   "id": "sticky-weekly",
   "metadata": {},
   "source": [
    "#### GO TO\n",
    "* NEXT: [INTERLIED_PATTERNS](#patterns_basic) / [PLOTS](#plots) / [VISUALISATIONS](#visualisations) / [CHAPTER 3](#ch_3)\n",
    "* BACK: [INDEX](#index_top)"
   ]
  },
  {
   "cell_type": "code",
   "execution_count": null,
   "id": "coated-plane",
   "metadata": {},
   "outputs": [],
   "source": [
    "# interlied_intervals?"
   ]
  },
  {
   "cell_type": "code",
   "execution_count": null,
   "id": "searching-helen",
   "metadata": {},
   "outputs": [],
   "source": [
    "# df_intervals=interlied_intervals(\"path/to/score\", \"language\")"
   ]
  },
  {
   "cell_type": "markdown",
   "id": "ruled-observation",
   "metadata": {},
   "source": [
    "#### [GO BACK TO THE TOP INDEX](#index_top) /// [GO TO DETAILED DESCRIPTION](#code_info)"
   ]
  },
  {
   "cell_type": "markdown",
   "id": "fewer-associate",
   "metadata": {},
   "source": [
    "-----"
   ]
  },
  {
   "cell_type": "markdown",
   "id": "cognitive-asbestos",
   "metadata": {},
   "source": [
    "## <div class=\"alert-warning\">- INTERLIED_PATTERN_ANALYSIS:</div>\n",
    "\n",
    "<a id='patterns_basic'></a>\n",
    "\n",
    "##### Want to know more about this algorithm? [CLICK HERE](#patterns_info) or run the cell below to get a short description of the inputs and outputs."
   ]
  },
  {
   "cell_type": "markdown",
   "id": "occasional-electricity",
   "metadata": {},
   "source": [
    "#### GO TO\n",
    "* NEXT: [INTERLIED_LYRIC](#lyric_basic)/ [PLOTS](#plots) / [VISUALISATIONS](#visualisations) / [CHAPTER 3](#ch_3)\n",
    "* BACK: [INTERLIED_INTERVALS](#intervals_basic) / [INDEX](#index_top)"
   ]
  },
  {
   "cell_type": "code",
   "execution_count": null,
   "id": "liquid-factor",
   "metadata": {},
   "outputs": [],
   "source": [
    "# df_ngrams=interlied_pattern_analysis('path/to/your/csv_folder')"
   ]
  },
  {
   "cell_type": "markdown",
   "id": "traditional-intro",
   "metadata": {},
   "source": [
    "#### [GO BACK TO THE TOP INDEX](#index_top) /// [GO TO DETAILED DESCRIPTION](#code_info)"
   ]
  },
  {
   "cell_type": "markdown",
   "id": "talented-british",
   "metadata": {},
   "source": [
    "-------"
   ]
  },
  {
   "cell_type": "markdown",
   "id": "olive-freeware",
   "metadata": {},
   "source": [
    "## <div class=\"alert-warning\">- INTERLIED_LYRIC </div>\n",
    "<a id='lyric_basic'></a>\n",
    "\n",
    "##### Want to know more about this algorithm? [CLICK HERE](#lyric_info) or run the cell below to get a short description of the inputs and outputs.\n",
    "\n",
    "#### GO TO\n",
    "* NEXT: [GO TO PLOTS](#plots) / [GO TO VISUALISATIONS](#visualisations) / [CHAPTER 3](#ch_3)\n",
    "* BACK: [INTERLIED_PATTERNS](#patterns_basic) / [CHAPTER 1](#ch_1) / [INDEX](#index_top)\n"
   ]
  },
  {
   "cell_type": "code",
   "execution_count": null,
   "id": "right-police",
   "metadata": {},
   "outputs": [],
   "source": [
    "# df_lyric=interlied_lyric(\"path/to/folder\",\"language\")\n",
    "# df_lyric"
   ]
  },
  {
   "cell_type": "markdown",
   "id": "fifth-presentation",
   "metadata": {},
   "source": [
    "#### [GO BACK TO THE TOP INDEX](#index_top) /// [GO TO DETAILED DESCRIPTION](#code_info)"
   ]
  },
  {
   "cell_type": "markdown",
   "id": "royal-oxford",
   "metadata": {},
   "source": [
    "---"
   ]
  },
  {
   "cell_type": "markdown",
   "id": "chubby-baseline",
   "metadata": {},
   "source": [
    "# <div class=\"alert-danger\">CHAPTER 2: Plots and visualisations</div>\n",
    "<a id='ch_2'></a>\n"
   ]
  },
  {
   "cell_type": "markdown",
   "id": "early-making",
   "metadata": {},
   "source": [
    "## <div class=\"alert-warning\">- PLOTS: </div>\n",
    "<a id='plots'></a>\n",
    "\n",
    "* INTERLIED_PITCH_PLOT: Input format: MusicXML, returns: Pitch plot of vocal part.\n",
    "##### Want to know more about this algorithm? [CLICK HERE](#pitchplot_info)\n",
    "*\n",
    "* INTERLIED_TOP_10_PLOT: Input: csv + query (column of interest, e.g. \"pattern\"), returns: top 10 elements in column (e.g. top 10 most frequent intervals).\n",
    "##### Want to know more about this algorithm? [CLICK HERE](#top10_info)\n",
    "*\n",
    "* INTERLIED_WORD_FREQ_Q_PLOT: Frequency of words per certain value in certain column; Input: intervals dataframe, query 1 (interval), query 2 (score title).\n",
    "##### Want to know more about this algorithm? [CLICK HERE](#qplot_info)\n",
    "*\n",
    "* INTERLIED_LYRIC_FREQ_PLOT: Frequency of words per 2 queries (e.g. tonality + composer). Input: output of interlied_lyric (lyric dataframe); Output: Plot.\n",
    "##### Want to know more about this algorithm? [CLICK HERE](#lyricplot_info)"
   ]
  },
  {
   "cell_type": "markdown",
   "id": "conceptual-millennium",
   "metadata": {},
   "source": [
    "#### GO TO\n",
    "* NEXT: [VISUALISATIONS](#visualisations) / [CHAPTER 3](#ch_3) / [DETAILED ALGO DESCRIPTIONS](#index_bottom)\n",
    "* BACK: [INTERLIED_LYRIC](#lyric_basic) / [CHAPTER 1](ch_1) / [INDEX](#index_top)"
   ]
  },
  {
   "cell_type": "code",
   "execution_count": null,
   "id": "received-priority",
   "metadata": {},
   "outputs": [],
   "source": [
    "# interlied_pitch_plot?"
   ]
  },
  {
   "cell_type": "code",
   "execution_count": null,
   "id": "spatial-colorado",
   "metadata": {},
   "outputs": [],
   "source": [
    "# interlied_pitch_plot(\"musicXML_folder\")"
   ]
  },
  {
   "cell_type": "markdown",
   "id": "applied-accommodation",
   "metadata": {},
   "source": [
    "To run the function below, run one of the functions that produce csv (thus, one of the three basic algorithms - click here: [GO TO CHAPTER 1](#ch_1)"
   ]
  },
  {
   "cell_type": "code",
   "execution_count": null,
   "id": "developing-candidate",
   "metadata": {},
   "outputs": [],
   "source": [
    "# interlied_top_10_plot?"
   ]
  },
  {
   "cell_type": "code",
   "execution_count": null,
   "id": "fifteen-drunk",
   "metadata": {},
   "outputs": [],
   "source": [
    "# interlied_top_10_plot(\"csv_folder\", \"column_name\")"
   ]
  },
  {
   "cell_type": "markdown",
   "id": "pending-marsh",
   "metadata": {},
   "source": [
    "To run the function below, run this function first to obtain df_intervals from [INTERLIED_INTERVALS](#intervals_basic) or [INTERLIED_PATTERN_ANALYSIS](#intervals_basic)"
   ]
  },
  {
   "cell_type": "code",
   "execution_count": null,
   "id": "macro-dancing",
   "metadata": {},
   "outputs": [],
   "source": [
    "# interlied_word_freq_q_plot?"
   ]
  },
  {
   "cell_type": "code",
   "execution_count": null,
   "id": "olympic-morocco",
   "metadata": {},
   "outputs": [],
   "source": [
    "# interlied_word_freq_q_plot(\"csv_folder\", \"column_name\", \"column_value\")"
   ]
  },
  {
   "cell_type": "markdown",
   "id": "twelve-parking",
   "metadata": {},
   "source": [
    "To run the function below, run this function first to obtain df_lyric. [INTERLIED_LYRIC](#lyric_basic)"
   ]
  },
  {
   "cell_type": "code",
   "execution_count": null,
   "id": "comic-constraint",
   "metadata": {},
   "outputs": [],
   "source": [
    "# interlied_lyric_word_freq_plot?"
   ]
  },
  {
   "cell_type": "code",
   "execution_count": null,
   "id": "noted-retreat",
   "metadata": {},
   "outputs": [],
   "source": [
    "# interlied_lyric_word_freq_plot(csv, column_name_1, column_value_1, column_name_2, column_value_2)"
   ]
  },
  {
   "cell_type": "markdown",
   "id": "valid-alignment",
   "metadata": {},
   "source": [
    "#### [GO BACK TO THE TOP INDEX](#index_top) /// [GO TO DETAILED DESCRIPTION](#code_info)"
   ]
  },
  {
   "cell_type": "markdown",
   "id": "perceived-latino",
   "metadata": {},
   "source": [
    "## <div class=\"alert-warning\">- VISUALISATIONS: </div>\n",
    "<a id='visualisations'></a>\n",
    "#### *VIEW_MIDI_AND_SCORE + SAVE_MIDI:*\n",
    "* FIRST INPUT: PATH TO YOUR XML SCORE\n",
    "* SECOND INPUT: START MEASURE NUMBER\n",
    "* THIRD INPUT: END MEASURE NUMBER\n",
    "* RUN THE ONE LINE CODE\n",
    "* OUTPUT: SCORE + MIDI \"VISUALISATION\". \n",
    "* OPTIONAL - SAVE MIDI: If you wish to save midi, run safe_midi with the same parameters.\n",
    "* #### NOTE: To run this funciton, you must have a free software MuseScore 2.0 installed on your computer. New \n",
    "##### Want to know more about this algorithm? [CLICK HERE](#midiscore_info)"
   ]
  },
  {
   "cell_type": "code",
   "execution_count": null,
   "id": "indonesian-visit",
   "metadata": {},
   "outputs": [],
   "source": [
    "# interlied_view_midi_and_score(\"path/to/xml/file\", measure_start, measure_end)"
   ]
  },
  {
   "cell_type": "code",
   "execution_count": null,
   "id": "vocational-evening",
   "metadata": {},
   "outputs": [],
   "source": [
    "# interlied_save_midi(\"path/to/musicXML\", msr_start, msr_end)"
   ]
  },
  {
   "cell_type": "markdown",
   "id": "accredited-interval",
   "metadata": {},
   "source": [
    "#### [GO BACK TO THE TOP INDEX](#index_top) /// [GO TO DETAILED DESCRIPTION](#code_info)"
   ]
  },
  {
   "cell_type": "markdown",
   "id": "above-agent",
   "metadata": {},
   "source": [
    "----------"
   ]
  },
  {
   "cell_type": "markdown",
   "id": "terminal-stocks",
   "metadata": {},
   "source": [
    "# <div class=\"alert-danger\">CHAPTER 3: Corpus Exploration</div> \n",
    "<a id='ch_3'></a>"
   ]
  },
  {
   "cell_type": "markdown",
   "id": "ranking-glenn",
   "metadata": {},
   "source": [
    "##### The first 2 functions below are based on INTERVALS function. If you want to run or revisit it first, [CLICK HERE](#intervals_basic)."
   ]
  },
  {
   "cell_type": "markdown",
   "id": "organizational-relay",
   "metadata": {},
   "source": [
    "## <div class=\"alert-warning\">1) Search for most common lyric + interval combination in score</div>\n",
    "\n",
    "<a id='intervals_lyric'></a>"
   ]
  },
  {
   "cell_type": "code",
   "execution_count": null,
   "id": "buried-spanish",
   "metadata": {},
   "outputs": [],
   "source": [
    "# interlied_int_explore_lyric(\"csv_folder\")"
   ]
  },
  {
   "cell_type": "markdown",
   "id": "narrow-fighter",
   "metadata": {},
   "source": [
    "#### [GO BACK TO THE TOP INDEX](#index_top) /// [GO TO DETAILED DESCRIPTION](#code_info)"
   ]
  },
  {
   "cell_type": "markdown",
   "id": "fundamental-guide",
   "metadata": {},
   "source": [
    "## <div class=\"alert-warning\">2) Search for instances with specific lyric token and interval</div>\n",
    "<a id='intervals_search_lyric'></a>"
   ]
  },
  {
   "cell_type": "code",
   "execution_count": null,
   "id": "seeing-shakespeare",
   "metadata": {},
   "outputs": [],
   "source": [
    "# interlied_int_explore_lyric_token(\"csv\", \"composer_name\", \"lyric_word\", \"interval\")"
   ]
  },
  {
   "cell_type": "markdown",
   "id": "sporting-bowling",
   "metadata": {},
   "source": [
    "#### [GO BACK TO THE TOP INDEX](#index_top) /// [GO TO DETAILED DESCRIPTION](#code_info)"
   ]
  },
  {
   "cell_type": "markdown",
   "id": "analyzed-gallery",
   "metadata": {},
   "source": [
    "-------"
   ]
  },
  {
   "cell_type": "markdown",
   "id": "extended-murder",
   "metadata": {},
   "source": [
    "##### The functions below are based on PATTERNS function. If you want to run or revisit it first, [CLICK HERE](#patterns_basic)."
   ]
  },
  {
   "cell_type": "markdown",
   "id": "textile-integer",
   "metadata": {},
   "source": [
    "## <div class=\"alert-warning\">3) Match patterns with lyric and composer (or any other parameter)</div>\n",
    "<a id='patterns_search_lyric'></a>"
   ]
  },
  {
   "cell_type": "code",
   "execution_count": null,
   "id": "expressed-cycle",
   "metadata": {},
   "outputs": [],
   "source": [
    "#interlied_search_pattern_lyric_composer(\"pattern_csv\", \"composer_name\", \"lyric_query\", \"pattern_string\")"
   ]
  },
  {
   "cell_type": "markdown",
   "id": "antique-harvard",
   "metadata": {},
   "source": [
    "#### [GO BACK TO THE TOP INDEX](#index_top) /// [GO TO DETAILED DESCRIPTION](#code_info)"
   ]
  },
  {
   "cell_type": "markdown",
   "id": "inner-iraqi",
   "metadata": {},
   "source": [
    "## <div class=\"alert-warning\">4) Search for all repeated patterns with lyric</div>"
   ]
  },
  {
   "cell_type": "code",
   "execution_count": null,
   "id": "attempted-morning",
   "metadata": {},
   "outputs": [],
   "source": [
    "#search_plc=interlied_search_pattern_lyric_composer(csv, pattern_string, composer_name, lyric_query)\n",
    "#search_plc"
   ]
  },
  {
   "cell_type": "markdown",
   "id": "stuffed-recommendation",
   "metadata": {},
   "source": [
    "#### [GO BACK TO THE TOP INDEX](#index_top) /// [GO TO DETAILED DESCRIPTION](#code_info)"
   ]
  },
  {
   "cell_type": "markdown",
   "id": "organic-paint",
   "metadata": {},
   "source": [
    "--------"
   ]
  },
  {
   "cell_type": "markdown",
   "id": "healthy-characteristic",
   "metadata": {},
   "source": [
    "## <div class=\"alert-warning\">5) Search for all repeated melodic and rhythm patterns</div> <a id='searchrhythm'></a>"
   ]
  },
  {
   "cell_type": "code",
   "execution_count": null,
   "id": "transparent-printer",
   "metadata": {},
   "outputs": [],
   "source": [
    "#s_rhythm_melody=interlied_search_melody_rhythm_composer(csv, pattern_string, rhythm_pattern, composer_name)\n",
    "#s_rhythm_melody"
   ]
  },
  {
   "cell_type": "markdown",
   "id": "exciting-techno",
   "metadata": {},
   "source": [
    "##### The function below is based on LYRIC function. If you want to run or revisit it first, [CLICK HERE](#lyric_basic)."
   ]
  },
  {
   "cell_type": "markdown",
   "id": "indonesian-spread",
   "metadata": {},
   "source": [
    "## <div class=\"alert-warning\">6) Word count in score</div>\n",
    "<a id='lyric_word_count'></a>"
   ]
  },
  {
   "cell_type": "code",
   "execution_count": null,
   "id": "korean-panama",
   "metadata": {},
   "outputs": [],
   "source": [
    "#interlied_words_count(csv)"
   ]
  },
  {
   "cell_type": "markdown",
   "id": "deadly-amendment",
   "metadata": {},
   "source": [
    "#### [GO BACK TO THE TOP INDEX](#index_top) /// [GO TO DETAILED DESCRIPTION](#code_info)"
   ]
  },
  {
   "cell_type": "markdown",
   "id": "initial-matthew",
   "metadata": {},
   "source": [
    "--------"
   ]
  },
  {
   "cell_type": "markdown",
   "id": "based-laugh",
   "metadata": {},
   "source": [
    "# #"
   ]
  },
  {
   "cell_type": "markdown",
   "id": "optical-transport",
   "metadata": {},
   "source": [
    "## <div class=\"alert-danger\">INDEX</div>\n",
    "<a id='index_top'></a>\n",
    "<a id='index_bottom'></a>\n",
    "\n",
    "ABOUT INTERLIED\n",
    "* [Info about InterLied](#interlied_info)\n",
    "\n",
    "BASIC ALGORITHMS\n",
    "* [interlied_intervals](#intervals_info)\n",
    "* [interlied_patterns](#patterns_info)\n",
    "* [interlied_lyric](#lyric_info)\n",
    "\n",
    "PLOTS\n",
    "* [interlied_pitch_plot](#pitchplot_info)\n",
    "* [interlied_top_10_plot](#top10_info)\n",
    "* [interlied_word_freq_q_plot](#qplot_info)\n",
    "* [interlied_lyric_word_freq_plot](#lyricplot_info)\n",
    "\n",
    "VISUALSIATIONS\n",
    "* [interlied_view_midi_and_score, interlied_midi_save](#midiscore_info)\n",
    "\n",
    "EXPLORE\n",
    "* [interlied_int_explore_lyric](#explorelyric_info)\n",
    "* [interlied_int_explore_lyric_token](#explorelyrictoken_info)\n",
    "* [interlied_search_pattern_lyric_composer](#plc_info)\n",
    "* [interlied_search_pattern_rhythm_composer](#searchrhythm_info)\n",
    "* [interlied_words_count](#wordcount_info)\n",
    "\n",
    "\n",
    "COMMANDS WITHOUT ALGORITHMS\n",
    "* [PRESS HERE TO AVOID ALGORITHM CELLS](#)\n",
    "\n",
    "TOP INDEX\n",
    "* [GO BACK TO THE TOP INDEX](#index_top)"
   ]
  },
  {
   "cell_type": "markdown",
   "id": "dressed-strap",
   "metadata": {},
   "source": [
    "# #"
   ]
  },
  {
   "cell_type": "markdown",
   "id": "peaceful-virgin",
   "metadata": {},
   "source": [
    "# <div class=\"alert-success\">DETAILED CODE DESCRIPTION</div>\n",
    "<a id='code_info'></a>"
   ]
  },
  {
   "cell_type": "markdown",
   "id": "material-fountain",
   "metadata": {},
   "source": [
    "## <div class=\"alert-warning\">What is InterLied?</div>\n",
    "<a id='interlied'></a>\n",
    "InterLied is an interface, run by a set of algorithms for score (primarily lieder) analysis. The project is musicologically motivated, thus it streams towards wider accessibility. Its algorithms for music analysis are explained and provided through the informative this Jupyter notebook, and the interface (GUI), a convenient format for users with less computational knowledge. The latter allows the user to apply the algorithms to their corpora without any interaction with the code. The algorithms’ primary focus is “music pattern” – melodic, rhythmic, and melodic, but they also explore metadata information. While music parameters, such as key, meters and other musical features are being studied with music21 Python library, the patterns and lyric are analysed with linguistic principles, such as n-grams and unsupervised topic modeling (e.g., Latent Dirichlet Allocation). The project is delivering a clear set of Jupyter notebooks, explaining the analytical process in detail, helping the users to alter and/or reproduce/utilise the code."
   ]
  },
  {
   "cell_type": "markdown",
   "id": "abandoned-conflict",
   "metadata": {},
   "source": [
    "## <div class=\"alert-warning\">- INTERLIED_INTERVALS</div>\n",
    "<a id='intervals_info'></a>\n",
    "\n",
    "#### INPUT: Path of a folder with xml scores.\n",
    "* 1. Algorithm chooses the first part (e.g. score.parts[0]), assuming this is the vocal line of your composition.\n",
    "* 2. Algorithm does not take into consideration the relationship between two consecutive notes separated by break (pause).\n",
    "* 3. A complete interval sequence list is created within the loop for each individual composition. \n",
    "    *(This is not stored permanently anywhere yet, but can be seen when the loop is producing them.)*\n",
    "* 5. Each interval element includes the ASCENDING(+), DESCENDING(-) or OBLIQUE (_) indication., thus M-2 and M+2 are not considered the same. This is important when contours will be extracted. Intervals are desribed in the following way (applies to all of them according to music theory regulations):\n",
    "    - P5 = Perfect (fifth); variations: P_5, P+5, P-5 (applies to all).\n",
    "    - A4 = Augmented (fourth)\n",
    "    - D4 = Diminished (fourth)\n",
    "    - M3 = Major (third)\n",
    "    - m2 = minor (second)\n",
    "* 6. After defining the interval, rhythm, lyrics, metadata and musical data is retrieved.\n",
    "    * 6a) Interval list: All of the intervals in the vocal part of the scores, excluding the notes separated by break.\n",
    "    * 6b) Rhythm: A tuple of both note values in the interval, for example M-2 - (0.5, 1.0), where 0.5 equals one eight note and 1.0 equals one quarter note.\n",
    "    * 6c) Lyrics: The method takes the \"assembled lyrics\". This means that the system takes all words at least partially connected to the interval (each note) to make the process of lyrics segmentation / exploration easier and clearer. It returns 2 types of lyric data - the one including all words (string) and tokenized (list of tokens). The latter excludes the stopwords that can be manually updated if one wishes.\n",
    "    * 6e) Title/composer/lyricist: Only adds the information if this is stored in the metadata of the score. Otherwise returns \"None\". This can be fixed either by correcting the scores and parsing them again or manually in the output csv table. Note: The year of composition is not working yet, because in most times, this is not specified in xml. Therefore, it, for the time being, produces \"None\".\n",
    "    * 6f) Music analysis data: Key/tonality is predicted with The Krumhansl-Schmuckler Key-Finding Algorithm incorporated in the music21 functions. In addition to tonalities, it offers alternative keys/tonalities, writing down three most popular guesses besides the first. Voice range is computed between the lowest and highest tone in the vocal part and is expressed in an interval range (for example, M9). Meter change gives you two outputs, first is only to confirm whether the composition has a meter change by YES/NO, while the column that follows explains how many times and states the exact meters (even if there is only one). Measure/bar start/end are related to the first and last note of the interval.\n",
    "##### Want to use the algorithm? [CLICK HERE](#intervals_basic)"
   ]
  },
  {
   "cell_type": "markdown",
   "id": "strategic-sucking",
   "metadata": {},
   "source": [
    "## <div class=\"alert-warning\">- INTERLIED_PATTERNS</div>\n",
    "<a id='patterns_info'></a>\n",
    "* Computes all n-grams (e.g. melodic in length 2 to 30 intervals and complimentary rhythmic & lyric patterns) from the interval column for each score separately.\n",
    "* Collects information from the first interval: Title, Composer, Lyricist, Tonality/Key, Alternative Tonalities/Keys, Meters, Voice range, Start measure/bar number. \n",
    "* Collects information from all intervals or last gram: pattern, pattern length, lyrics, measure/bar end.\n",
    "* Erases all grams that are not repeated (must repeat at least once).\n",
    "##### Want to use the algorithm? [CLICK HERE](#patterns_basic)\n"
   ]
  },
  {
   "cell_type": "markdown",
   "id": "surface-cartridge",
   "metadata": {},
   "source": [
    "## <div class=\"alert-warning\">- INTERLIED_LYRIC</div>\n",
    "\n",
    "<a id='lyric_info'></a>\n",
    "* This algorithm feeds on information presented directly in the score.\n",
    "* Lyric of the score is first transcribed from the score (music21 algorithm), then tokenized, and in the end reduced to tokens excluding stopwords.\n",
    "* Stopwords are composed of extended version of slovenian SW list (https://github.com/stopwords-iso/stopwords-sl) and includes the english list from nltk.corpus.stopwords. User is allowed to add their own, if needed.\n",
    "* Lyric of score is accompanied by some basic metadata information, such as title, composer and score key, however, this algorithm mainly focuses on preparing the text for further NLP or other types of text analyses.\n",
    "##### Want to use the algorithm? [CLICK HERE](#lyric_basic)"
   ]
  },
  {
   "cell_type": "markdown",
   "id": "express-closure",
   "metadata": {},
   "source": [
    "## <div class=\"alert-warning\">- INTERLIED_PITCH_PLOT</div>\n",
    "\n",
    "<a id='pitchplot_info'></a>\n",
    "\n",
    "* Input format: MusicXML, returns: Pitch plot of vocal part.\n",
    "* Pitch plot is generated by music21 pitch plot function, that is based on matplotlib.\n",
    "##### Want to use the algorithm? [CLICK HERE](#plots)\n"
   ]
  },
  {
   "cell_type": "markdown",
   "id": "embedded-might",
   "metadata": {},
   "source": [
    "## <div class=\"alert-warning\">- INTERLIED_TOP_10</div>\n",
    "\n",
    "<a id='top10_info'></a>\n",
    "* Input: csv + query (column of interest, e.g. \"pattern\"), returns: top 10 elements in column (e.g. top 10 most frequent patterns in score / csv / corpus).\n",
    "##### Want to use the algorithm? [CLICK HERE](#plots)\n"
   ]
  },
  {
   "cell_type": "markdown",
   "id": "mature-homeless",
   "metadata": {},
   "source": [
    "## <div class=\"alert-warning\">- INTERLIED_WORD_FREQ_Q_PLOT</div>\n",
    "<a id='qplot_info'></a>\n",
    "* Frequency of words per certain interval in certain score;\n",
    "* Input: intervals dataframe, query 1 (interval), query 2 (score title).\n",
    "##### Want to use the algorithm? [CLICK HERE](#plots)\n"
   ]
  },
  {
   "cell_type": "markdown",
   "id": "special-cornell",
   "metadata": {},
   "source": [
    "## <div class=\"alert-warning\">- INTERLIED_LYRIC_WORD_FREQ_PLOT</div>\n",
    "<a id='lyricplot_info'></a>\n",
    "\n",
    "* Frequency of words per 2 queries (e.g. tonality + composer). \n",
    "* Input = Output of interlied_lyric (lyric dataframe); Output: Plot.\n",
    "##### Want to use the algorithm? [CLICK HERE](#plots)"
   ]
  },
  {
   "cell_type": "markdown",
   "id": "round-leeds",
   "metadata": {},
   "source": [
    "## <div class=\"alert-warning\">- INTERLIED_VIEW_MIDI_AND_SCORE & INTERLIED_MIDI_SAVE</div>\n",
    "<a id='midiscore_info'></a>\n",
    "* inputs: musicXML, start measure number, end measure number, outputs: score visualisation and midi recording.\n",
    "* This is run by music21 method (found in music21.stream). \n",
    "* It operates through any music reader aplication (Musescore, Finale, Sybelius etc.), however, if you want to use your prefered one, you must alterate music21's settings. Default application when music21 is installed is Musescore 2.0. Visit their page for more information.\n",
    "\n",
    "* Saving Midi: This is an optional addition to the viewing of the score. It allows user to save the excerpt to their computer. Inputs stay the same, output appears in the folder interlied/jupyter_notebooks/midi.\n",
    "##### Want to use the algorithm? [CLICK HERE](#visualisations)"
   ]
  },
  {
   "cell_type": "markdown",
   "id": "adjacent-protein",
   "metadata": {},
   "source": [
    "## <div class=\"alert-warning\">- INTERLIED_INT_EXPLORE_LYRIC</div>\n",
    "<a id='explorelyric_info'></a>\n",
    "\n",
    "* Input: intervals_df (dataframe, obtained with the basic interval algorithm), output: a dictionary (displayed text) of most common intervals + lyric words combination.\n",
    "* This algorithm, although it may not be self sufficient for standalone research, it servers as a good start for the function interlied_int_explore_lyric_token that further explores this matter.\n",
    "##### Want to use the algorithm? [CLICK HERE](#intervals_lyric)"
   ]
  },
  {
   "cell_type": "markdown",
   "id": "rocky-sleeve",
   "metadata": {},
   "source": [
    "## <div class=\"alert-warning\">- INTERLIED_INT_EXPLORE_LYRIC_TOKEN</div>\n",
    "<a id='explorelyrictoken_info'></a>\n",
    "* Inputs: intervals_df (dataframe, obtained with the basic interval algorithm), composer_name, lyric_entry, interval_entry\n",
    "* output: string (text) with all instances (with all data of that row) where all queries interact.\n",
    "* It shows all additional information about the moments in the score where lyric and specific interval appear together in composer's corpus.\n",
    "##### Want to use the algorithm? [CLICK HERE](#intervals_search_lyric)"
   ]
  },
  {
   "cell_type": "markdown",
   "id": "unusual-element",
   "metadata": {},
   "source": [
    "## <div class=\"alert-warning\">- INTERLIED_SEARCH_PATTERN_LYRIC_COMPOSER</div>\n",
    "<a id='plc_info'></a>\n",
    "It explores the relationship between rhythmic and melodic patterns, replacing the lyric parameter with the rhythm. It returns all instances of the score where both patterns match. While the functions above deal with data from either intervals or patterns data, the last explore option concerns itself with the interlied_lyric output. It returns a list of most frequent words per score, alongside score’s title, composer, lyricist, and key.\n",
    "##### Want to use the algorithm? [CLICK HERE](#patterns_search_lyric)"
   ]
  },
  {
   "cell_type": "markdown",
   "id": "sitting-seven",
   "metadata": {},
   "source": [
    "## <div class=\"alert-warning\">- INTERLIED_SEARCH_PATTERN_RHYTHM_COMPOSER</div>\n",
    "<a id='plc_info'></a>\n",
    "<a id='searchrhythm_info'></a>\n",
    "\n",
    "This function functions similarly as interlied_search_pattern_lyric_composer, but replaces the lyric parameter with the rhythm. It returns all instances of the score where both patterns match. While the functions above deal with data from either intervals or patterns data, the last explore option concerns itself with the interlied_lyric output. It returns a list of most frequent words per score, alongside score’s title, composer, lyricist, and key.\n",
    "\n",
    "##### Want to use the algorithm? [CLICK HERE](#searchrhythm)"
   ]
  },
  {
   "cell_type": "markdown",
   "id": "welcome-brunswick",
   "metadata": {},
   "source": [
    "## <div class=\"alert-warning\">- INTERLIED_WORDS_COUNT</div>\n",
    "<a id='wordcount_info'></a>\n",
    "This funcion requires a single lyric csv file path as an input and computes the word instances per score, returning a dataframe with composer, title, key and most common words per row (e.g., score).\n",
    "##### Want to use the algorithm? [CLICK HERE](#searchrhythm)"
   ]
  },
  {
   "cell_type": "markdown",
   "id": "central-treaty",
   "metadata": {},
   "source": [
    "### [GO BACK TO THE TOP INDEX](#index_top)"
   ]
  }
 ],
 "metadata": {
  "kernelspec": {
   "display_name": "Python 3",
   "language": "python",
   "name": "python3"
  },
  "language_info": {
   "codemirror_mode": {
    "name": "ipython",
    "version": 3
   },
   "file_extension": ".py",
   "mimetype": "text/x-python",
   "name": "python",
   "nbconvert_exporter": "python",
   "pygments_lexer": "ipython3",
   "version": "3.8.2"
  }
 },
 "nbformat": 4,
 "nbformat_minor": 5
}
